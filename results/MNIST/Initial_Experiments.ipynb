{
 "cells": [
  {
   "cell_type": "markdown",
   "id": "803988d2",
   "metadata": {},
   "source": [
    "# Initial Experiments\n",
    "## on Adaptive Dropout Probabilities via Tsetlin Machine-inspired Majority Voting\n",
    "\n",
    "In this notebook I describe my idea, the first implementation, and the first results of basic exploratory analysis. "
   ]
  },
  {
   "cell_type": "code",
   "execution_count": null,
   "id": "94c6b834",
   "metadata": {},
   "outputs": [],
   "source": [
    "import numpy as np\n",
    "import matplotlib.pyplot as plt\n",
    "import pandas as pd\n"
   ]
  },
  {
   "cell_type": "code",
   "execution_count": null,
   "id": "fc674f08",
   "metadata": {},
   "outputs": [],
   "source": []
  }
 ],
 "metadata": {
  "kernelspec": {
   "display_name": "Python 3 (ipykernel)",
   "language": "python",
   "name": "python3"
  },
  "language_info": {
   "codemirror_mode": {
    "name": "ipython",
    "version": 3
   },
   "file_extension": ".py",
   "mimetype": "text/x-python",
   "name": "python",
   "nbconvert_exporter": "python",
   "pygments_lexer": "ipython3",
   "version": "3.9.7"
  }
 },
 "nbformat": 4,
 "nbformat_minor": 5
}
